{
 "cells": [
  {
   "cell_type": "markdown",
   "metadata": {},
   "source": [
    "<center>\n",
    "    <h1>R kernel based on xeus</h1>\n",
    "</center>"
   ]
  },
  {
   "cell_type": "code",
   "execution_count": null,
   "metadata": {
    "vscode": {
     "languageId": "r"
    }
   },
   "outputs": [],
   "source": [
    "R.version"
   ]
  },
  {
   "cell_type": "markdown",
   "metadata": {},
   "source": [
    "# Builtin data structures\n",
    "\n",
    "Vectors, lists, data frames "
   ]
  },
  {
   "cell_type": "code",
   "execution_count": null,
   "metadata": {
    "vscode": {
     "languageId": "r"
    }
   },
   "outputs": [],
   "source": [
    "# simple data structures\n",
    "1:10\n",
    "letters"
   ]
  },
  {
   "cell_type": "code",
   "execution_count": null,
   "metadata": {
    "vscode": {
     "languageId": "r"
    }
   },
   "outputs": [],
   "source": [
    "# lists\n",
    "list(a = 42, b = 1:5, c = sample(LETTERS, 10))"
   ]
  },
  {
   "cell_type": "code",
   "execution_count": null,
   "metadata": {
    "vscode": {
     "languageId": "r"
    }
   },
   "outputs": [],
   "source": [
    "# data frames\n",
    "head(mtcars)"
   ]
  },
  {
   "cell_type": "code",
   "execution_count": null,
   "metadata": {
    "vscode": {
     "languageId": "r"
    }
   },
   "outputs": [],
   "source": [
    "# tibbles\n",
    "suppressPackageStartupMessages({\n",
    "    library(dplyr)\n",
    "})\n",
    "\n",
    "mtcars %>%\n",
    "  group_by(cyl) %>%\n",
    "  summarise(mpg = mean(mpg))"
   ]
  },
  {
   "cell_type": "markdown",
   "metadata": {
    "vscode": {
     "languageId": "r"
    }
   },
   "source": [
    "This is done differently than the reference `IRkernel` in that it does not automatically `display()` everything, but rather only prints the last expression from the cell. If we want a fancy display, we can use the `display()` function from `IRdisplay` which is automatically available: "
   ]
  },
  {
   "cell_type": "code",
   "execution_count": null,
   "metadata": {
    "vscode": {
     "languageId": "r"
    }
   },
   "outputs": [],
   "source": [
    "display(1:10)\n",
    "display(list(a = 42, b = 1:5, c = sample(LETTERS, 10)))\n",
    "display(head(mtcars))"
   ]
  },
  {
   "cell_type": "markdown",
   "metadata": {},
   "source": [
    "# plots"
   ]
  },
  {
   "cell_type": "code",
   "execution_count": null,
   "metadata": {
    "vscode": {
     "languageId": "r"
    }
   },
   "outputs": [],
   "source": [
    "# base graphics\n",
    "boxplot(count ~ spray, data = InsectSprays, col = \"lightgray\")"
   ]
  },
  {
   "cell_type": "code",
   "execution_count": null,
   "metadata": {
    "vscode": {
     "languageId": "r"
    }
   },
   "outputs": [],
   "source": [
    "# ggplot2\n",
    "library(ggplot2)\n",
    "\n",
    "ggplot(mpg, aes(displ, hwy, colour = class)) + \n",
    "  geom_point()"
   ]
  },
  {
   "cell_type": "markdown",
   "metadata": {},
   "source": [
    "# html widgets"
   ]
  },
  {
   "cell_type": "markdown",
   "metadata": {},
   "source": [
    "<div class=\"alert alert-block alert-info\"><b>Note:</b> r-plotly is not available for JupyterLite.</div>"
   ]
  },
  {
   "cell_type": "code",
   "execution_count": null,
   "metadata": {
    "vscode": {
     "languageId": "r"
    }
   },
   "outputs": [],
   "source": [
    "suppressPackageStartupMessages({\n",
    "    library(htmltools)\n",
    "    library(plotly)\n",
    "})\n",
    "\n",
    "tagList(\n",
    "  plot_ly(diamonds, x = ~carat, height = 200),\n",
    "  plot_ly(diamonds, x = ~price, height = 200)\n",
    ")"
   ]
  },
  {
   "cell_type": "markdown",
   "metadata": {},
   "source": [
    "# Download files"
   ]
  },
  {
   "cell_type": "code",
   "execution_count": null,
   "metadata": {
    "vscode": {
     "languageId": "r"
    }
   },
   "outputs": [],
   "source": [
    "# download.file text-data\n",
    "csv_url <- \"https://raw.githubusercontent.com/plotly/datasets/master/2014_apple_stock.csv\"\n",
    "fname <- \"data.csv\"\n",
    "download.file(\n",
    "    url=csv_url,\n",
    "    destfile=fname,\n",
    "    method=\"auto\")\n",
    "# open file\n",
    "csv <- readLines(\"data.csv\")\n",
    "csv"
   ]
  },
  {
   "cell_type": "code",
   "execution_count": null,
   "metadata": {
    "vscode": {
     "languageId": "r"
    }
   },
   "outputs": [],
   "source": [
    "# download.file binary-data\n",
    "download.file(  \n",
    "  url = \"https://httpbin.org/bytes/24\",\n",
    "  destfile = \"foo.bin\"\n",
    ")\n",
    "\n",
    "# read file\n",
    "bin_data <- readBin(\"foo.bin\", what = \"raw\", n = 24)\n",
    "print(\"data:\")\n",
    "print(bin_data)\n",
    "int_data <- as.integer(bin_data)\n",
    "freqs <- table(int_data) / length(int_data)\n",
    "entropy <- -sum(freqs * log2(freqs))\n",
    "print(\"entropy:\")\n",
    "print(entropy)"
   ]
  },
  {
   "cell_type": "code",
   "execution_count": null,
   "metadata": {
    "vscode": {
     "languageId": "r"
    }
   },
   "outputs": [],
   "source": [
    "# download.file pass headers\n",
    "headers = c(\"Xdebug\" = \"false\")\n",
    "temp_file <- tempfile()\n",
    "download.file(  \n",
    "  url = \"https://httpbin.org/get\",\n",
    "  destfile = temp_file,\n",
    "  headers = headers\n",
    ")\n",
    "# open file\n",
    "con <- file(temp_file, open = \"r\")\n",
    "lines <- readLines(con) \n",
    "unlink(temp_file)\n",
    "# read json\n",
    "json_data <- jsonlite::fromJSON(paste(lines, collapse = \"\\n\"))\n",
    "# get headers\n",
    "headers <- json_data$headers\n",
    "headers$Xdebug"
   ]
  },
  {
   "cell_type": "code",
   "execution_count": null,
   "metadata": {
    "vscode": {
     "languageId": "r"
    }
   },
   "outputs": [],
   "source": [
    "# append mode\n",
    "# download.file binary-data\n",
    "temp_file <- tempfile()\n",
    "download.file(  \n",
    "  url = \"https://httpbin.org/bytes/12\",\n",
    "  destfile = temp_file,\n",
    "  mode = \"w\"\n",
    ")\n",
    "\n",
    "# print size of file\n",
    "file_size <- file.info(temp_file)$size\n",
    "cat(\"File size:\", file_size, \"bytes\\n\")\n",
    "\n",
    "download.file(  \n",
    "  url = \"https://httpbin.org/bytes/12\",\n",
    "  destfile = temp_file,\n",
    "  mode = \"ab\"\n",
    ")\n",
    "# print size of file\n",
    "file_size <- file.info(temp_file)$size\n",
    "cat(\"File size:\", file_size, \"bytes\\n\")"
   ]
  },
  {
   "cell_type": "markdown",
   "metadata": {},
   "source": [
    "## url"
   ]
  },
  {
   "cell_type": "code",
   "execution_count": null,
   "metadata": {
    "vscode": {
     "languageId": "r"
    }
   },
   "outputs": [],
   "source": [
    "# download xeus-readme\n",
    "xeus_r_readme_url <- \"https://raw.githubusercontent.com/jupyter-xeus/xeus-r/main/README.md\"\n",
    "con <- url(xeus_r_readme_url)\n",
    "xeus_r_readme <- readLines(con)\n",
    "close(con)\n",
    "xeus_r_readme"
   ]
  },
  {
   "cell_type": "code",
   "execution_count": null,
   "metadata": {
    "vscode": {
     "languageId": "r"
    }
   },
   "outputs": [],
   "source": [
    "# pass headers\n",
    "headers = c(\"Xdebug\" = \"false\")\n",
    "con <- url(\"https://httpbin.org/get\", headers = headers)\n",
    "lines <- readLines(con)\n",
    "close(con)\n",
    "\n",
    "# read json\n",
    "json_data <- jsonlite::fromJSON(paste(lines, collapse = \"\\n\"))\n",
    "# get headers\n",
    "headers <- json_data$headers\n",
    "headers$Xdebug\n"
   ]
  },
  {
   "cell_type": "markdown",
   "metadata": {},
   "source": [
    "## read.csv"
   ]
  },
  {
   "cell_type": "code",
   "execution_count": null,
   "metadata": {
    "vscode": {
     "languageId": "r"
    }
   },
   "outputs": [],
   "source": [
    "url_iris <- \"https://raw.githubusercontent.com/mwaskom/seaborn-data/master/iris.csv\"\n",
    "df <- read.csv(url_iris)\n",
    "library(ggplot2)\n",
    "ggplot(df, aes(x = sepal_length, y = sepal_width, color = species)) +\n",
    "geom_point()"
   ]
  },
  {
   "cell_type": "code",
   "execution_count": null,
   "metadata": {
    "vscode": {
     "languageId": "r"
    }
   },
   "outputs": [],
   "source": [
    "url_pokemon <- url(\"https://raw.githubusercontent.com/veekun/pokedex/master/pokedex/data/csv/pokemon.csv\")  \n",
    "pokemon <- read.csv(url_pokemon)\n",
    "# Inspect\n",
    "head(pokemon)\n",
    "str(pokemon)\n",
    "summary(pokemon)"
   ]
  },
  {
   "cell_type": "code",
   "execution_count": null,
   "metadata": {
    "vscode": {
     "languageId": "r"
    }
   },
   "outputs": [],
   "source": [
    "# URL of the dataset\n",
    "url <- \"https://raw.githubusercontent.com/owid/covid-19-data/refs/heads/master/public/data/owid-covid-data.csv\"\n",
    "\n",
    "# Load dataset using base R\n",
    "# (this may take a while)\n",
    "covid_data <- read.csv(url)\n",
    "\n",
    "# Inspect\n",
    "head(covid_data)\n",
    "str(covid_data)\n",
    "summary(covid_data)"
   ]
  },
  {
   "cell_type": "markdown",
   "metadata": {},
   "source": [
    "# limitations\n",
    "\n",
    "The following cell is expected to work in \"vanilla\" jupyter, but not in jupyterlite.\n",
    "To download a file in the browser, the file needs to have CORS headers set.\n",
    "Otherwise, the browser will block the request."
   ]
  },
  {
   "cell_type": "code",
   "execution_count": null,
   "metadata": {
    "vscode": {
     "languageId": "r"
    }
   },
   "outputs": [],
   "source": [
    "no_cors = \"https://people.sc.fsu.edu/~jburkardt/data/csv/airtravel.csv\"\n",
    "temp_file <- tempfile()\n",
    "download.file(\n",
    "    url=no_cors,\n",
    "    destfile=temp_file,\n",
    "    method=\"auto\")\n",
    "unlink(temp_file)"
   ]
  }
 ],
 "metadata": {
  "kernelspec": {
   "display_name": "R 4.4.3 (xr)",
   "language": "R",
   "name": "xr"
  },
  "language_info": {
   "codemirror_mode": "",
   "file_extension": ".R",
   "mimetype": "text/x-R",
   "name": "R",
   "nbconvert_exporter": "",
   "pygments_lexer": "",
   "version": "4.4.3"
  }
 },
 "nbformat": 4,
 "nbformat_minor": 4
}
